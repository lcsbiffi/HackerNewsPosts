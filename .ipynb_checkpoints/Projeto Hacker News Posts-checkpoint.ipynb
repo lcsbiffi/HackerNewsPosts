{
 "cells": [
  {
   "cell_type": "markdown",
   "id": "486133a9-20df-4baf-9e1f-e7d3a4cfb7ee",
   "metadata": {},
   "source": [
    "# Projeto Hacker News Posts"
   ]
  },
  {
   "cell_type": "markdown",
   "id": "ded776ca-244d-4ce9-97a1-ad0147863275",
   "metadata": {},
   "source": [
    "Hacker News é um site criado pela incubadora de startups [Y Combinator](https://www.ycombinator.com/), no qual posts enviados pelos usuários recebem votos e comentários (similar ao reddit). \n",
    "\n",
    "O [dataset](https://www.kaggle.com/datasets/hacker-news/hacker-news-posts) usado contém apenas os posts que receberam algum tipo de interação, reduzindo seu tamanho de 300.000 linhas para aproximadamente 20.000."
   ]
  },
  {
   "cell_type": "markdown",
   "id": "46b98895-1f1e-450e-8775-11f227a99f8c",
   "metadata": {},
   "source": [
    "Abaixo, as descrições das colunas:\n",
    "\n",
    "- **id**: identificação única do Hacker News para o post\n",
    "- **title**: título do post\n",
    "- **url**: URL utilizada no post, caso exista\n",
    "- **num_points**: número de pontos que o post conseguiu, calculado como o total de *upvotes* menos o total de *downvotes*\n",
    "- **num_comments**: número de comentários no post\n",
    "- **author**: usuário que fez a postagem\n",
    "- **created_at**: data e horário que o post foi criado"
   ]
  },
  {
   "cell_type": "markdown",
   "id": "0dd2172b-f4b0-4404-a076-47d0ddc5e2ee",
   "metadata": {},
   "source": [
    "Neste projeto, estamos interessados nos posts com títulos que começam com *Ask HN* ou *Show HN*.\n",
    "\n",
    "Usuários que começam seus posts com *Ask HN* querem fazer alguma pergunta específica para a comunidade Hacker News.\n",
    "\n",
    "Usuários que começam seus posts com *Show HN* querem mostrar algo para a comunidade, seja um projeto, site, produto ou algo interessante.\n",
    "\n",
    "Vamos comparar estes dois tipos de post para determinar o seguinte:\n",
    "\n",
    "- Posts *Ask HN* e *Show HN* recebem, em média, mais comentários?\n",
    "- Posts criados em determinados horários recebem, em média, mais comentários?"
   ]
  },
  {
   "cell_type": "markdown",
   "id": "c6faee92-ae94-434d-a989-bee19b04927a",
   "metadata": {},
   "source": [
    "## Importando as bibliotecas"
   ]
  },
  {
   "cell_type": "code",
   "execution_count": 4,
   "id": "01899fad-2d57-4a39-a527-ad5357dce102",
   "metadata": {},
   "outputs": [],
   "source": [
    "from csv import reader\n",
    "\n",
    "open_file = open(r'C:\\Users\\lcsbi\\Desktop\\Data Science\\DataQuest\\Projeto Posts Hacker News\\HN_posts_year_to_Sep_26_2016.csv', encoding='utf8')\n",
    "read_file = reader(open_file)\n",
    "hn = list(read_file)"
   ]
  },
  {
   "cell_type": "code",
   "execution_count": 5,
   "id": "576c0123-998e-4e39-a233-99ec9857ee01",
   "metadata": {},
   "outputs": [
    {
     "name": "stdout",
     "output_type": "stream",
     "text": [
      "[['id', 'title', 'url', 'num_points', 'num_comments', 'author', 'created_at'], ['12579008', 'You have two days to comment if you want stem cells to be classified as your own', 'http://www.regulations.gov/document?D=FDA-2015-D-3719-0018', '1', '0', 'altstar', '9/26/2016 3:26'], ['12579005', 'SQLAR  the SQLite Archiver', 'https://www.sqlite.org/sqlar/doc/trunk/README.md', '1', '0', 'blacksqr', '9/26/2016 3:24'], ['12578997', 'What if we just printed a flatscreen television on the side of our boxes?', 'https://medium.com/vanmoof/our-secrets-out-f21c1f03fdc8#.ietxmez43', '1', '0', 'pavel_lishin', '9/26/2016 3:19'], ['12578989', 'algorithmic music', 'http://cacm.acm.org/magazines/2011/7/109891-algorithmic-composition/fulltext', '1', '0', 'poindontcare', '9/26/2016 3:16']]\n"
     ]
    }
   ],
   "source": [
    "print(hn[:5])"
   ]
  },
  {
   "cell_type": "markdown",
   "id": "667e59d1",
   "metadata": {},
   "source": [
    "## Retirando o header"
   ]
  },
  {
   "cell_type": "code",
   "execution_count": 6,
   "id": "5dc5d1cb",
   "metadata": {},
   "outputs": [
    {
     "name": "stdout",
     "output_type": "stream",
     "text": [
      "[['12579008', 'You have two days to comment if you want stem cells to be classified as your own', 'http://www.regulations.gov/document?D=FDA-2015-D-3719-0018', '1', '0', 'altstar', '9/26/2016 3:26'], ['12579005', 'SQLAR  the SQLite Archiver', 'https://www.sqlite.org/sqlar/doc/trunk/README.md', '1', '0', 'blacksqr', '9/26/2016 3:24'], ['12578997', 'What if we just printed a flatscreen television on the side of our boxes?', 'https://medium.com/vanmoof/our-secrets-out-f21c1f03fdc8#.ietxmez43', '1', '0', 'pavel_lishin', '9/26/2016 3:19'], ['12578989', 'algorithmic music', 'http://cacm.acm.org/magazines/2011/7/109891-algorithmic-composition/fulltext', '1', '0', 'poindontcare', '9/26/2016 3:16'], ['12578979', 'How the Data Vault Enables the Next-Gen Data Warehouse and Data Lake', 'https://www.talend.com/blog/2016/05/12/talend-and-Â\\x93the-data-vaultÂ\\x94', '1', '0', 'markgainor1', '9/26/2016 3:14']]\n"
     ]
    }
   ],
   "source": [
    "header = hn[1]\n",
    "hn = hn[1:]\n",
    "\n",
    "print(hn[:5])"
   ]
  },
  {
   "cell_type": "markdown",
   "id": "3285ab4c",
   "metadata": {},
   "source": [
    "## Extraindo os posts Ask HN e Show HN"
   ]
  },
  {
   "cell_type": "code",
   "execution_count": 7,
   "id": "e9db4acd",
   "metadata": {},
   "outputs": [],
   "source": [
    "ask_posts = []\n",
    "show_posts = []\n",
    "other_posts = []\n",
    "\n",
    "for row in hn:\n",
    "    title = row[1]\n",
    "    if title.lower().startswith('ask hn'):\n",
    "        ask_posts.append(row)\n",
    "    elif title.lower().startswith('show hn'):\n",
    "        show_posts.append(row)\n",
    "    else:\n",
    "        other_posts.append(row)"
   ]
  },
  {
   "cell_type": "code",
   "execution_count": 8,
   "id": "16671acf",
   "metadata": {},
   "outputs": [
    {
     "name": "stdout",
     "output_type": "stream",
     "text": [
      "['12578522', 'Ask HN: How do you pass on your work when you die?', '', '6', '3', 'PascLeRasc', '9/26/2016 1:17']\n",
      "['12578182', 'Show HN: A simple library for complicated animations', 'https://christinecha.github.io/choreographer-js/', '1', '0', 'christinecha', '9/26/2016 0:01']\n"
     ]
    }
   ],
   "source": [
    "print(ask_posts[1])\n",
    "print(show_posts[1])"
   ]
  },
  {
   "cell_type": "code",
   "execution_count": 9,
   "id": "1bbfe245",
   "metadata": {},
   "outputs": [
    {
     "name": "stdout",
     "output_type": "stream",
     "text": [
      "The number of 'Ask HN' posts is 9139\n",
      "The number of 'Show HN' posts is 10158\n",
      "The number of 'Other' posts is 273822\n"
     ]
    }
   ],
   "source": [
    "print(\"The number of 'Ask HN' posts is {}\".format(len(ask_posts)))\n",
    "\n",
    "print(\"The number of 'Show HN' posts is {}\".format(len(show_posts)))\n",
    "\n",
    "print(\"The number of 'Other' posts is {}\".format(len(other_posts)))"
   ]
  },
  {
   "cell_type": "markdown",
   "id": "cbeba2b3",
   "metadata": {},
   "source": [
    "## Calculando a média de comentários dos posts Ask HN e Show HN"
   ]
  },
  {
   "cell_type": "code",
   "execution_count": 10,
   "id": "fa074a65",
   "metadata": {},
   "outputs": [
    {
     "name": "stdout",
     "output_type": "stream",
     "text": [
      "10.393478498741656\n"
     ]
    }
   ],
   "source": [
    "# Encontrando o número total de comentários e a  média de Ask HN posts\n",
    "\n",
    "total_ask_comments = 0\n",
    "\n",
    "for post in ask_posts:\n",
    "    n_comments = post[4]\n",
    "    n_comments = int(n_comments)\n",
    "    total_ask_comments += n_comments\n",
    "    \n",
    "avg_ask_comments = total_ask_comments / len(ask_posts)\n",
    "print(avg_ask_comments)"
   ]
  },
  {
   "cell_type": "code",
   "execution_count": 11,
   "id": "a1301ab9",
   "metadata": {},
   "outputs": [
    {
     "name": "stdout",
     "output_type": "stream",
     "text": [
      "4.886099625910612\n"
     ]
    }
   ],
   "source": [
    "# Encontrando o número total de comentários e a  média de Show HN posts\n",
    "\n",
    "total_show_comments = 0\n",
    "\n",
    "for post in show_posts:\n",
    "    n_comments = post[4]\n",
    "    n_comments = int(n_comments)\n",
    "    total_show_comments += n_comments\n",
    "    \n",
    "avg_show_comments = total_show_comments / len(show_posts)\n",
    "print(avg_show_comments)"
   ]
  },
  {
   "cell_type": "code",
   "execution_count": 12,
   "id": "8d3ac2cc",
   "metadata": {},
   "outputs": [
    {
     "name": "stdout",
     "output_type": "stream",
     "text": [
      "6.4572678601427205\n"
     ]
    }
   ],
   "source": [
    "# Encontrando o número total de comentários e a  média de Outros posts\n",
    "\n",
    "total_other_comments = 0\n",
    "\n",
    "for post in other_posts:\n",
    "    n_comments = post[4]\n",
    "    n_comments = int(n_comments)\n",
    "    total_other_comments += n_comments\n",
    "    \n",
    "avg_other_comments = total_other_comments / len(other_posts)\n",
    "print(avg_other_comments)"
   ]
  },
  {
   "cell_type": "markdown",
   "id": "2a101157",
   "metadata": {},
   "source": [
    "Com base na análise feita acima, podemos verificar que posts que não se enquadram nas categorias *Ask HN* e *Show HN* recebem, em média, **seis comentários**.\n",
    "\n",
    "Os posts de *Show HN* recebem, em média, menos comentários que os da categoria \"Outros\", com **cinco comentários**.\n",
    "\n",
    "Já os posts de *Ask HN*, em média, costumam receber mais comentários do que todas as outras categorias, com cerca de **dez comentários**."
   ]
  },
  {
   "cell_type": "markdown",
   "id": "05134cf1",
   "metadata": {},
   "source": [
    "## Encontrando o número de Ask Posts e comentários por hora de criação"
   ]
  },
  {
   "cell_type": "markdown",
   "id": "39e3309d",
   "metadata": {},
   "source": [
    "Como os os posts *Ask HN* são os que recebem, em média, mais comentários, vamos focar o restante da análise somente neles.\n",
    "\n",
    "Nesta etapa, vamos determinar se um post criado em determinado horário costuma atrair mais engajamento. Os passos que seguiremos são:\n",
    "\n",
    "1) Calcular o número de *Ask HN* posts criados em cada hora do dia, junto do número de comentários recebidos\n",
    "\n",
    "2) Calcular a média de comentários que este tipo de post recebe por hora criada"
   ]
  },
  {
   "cell_type": "code",
   "execution_count": 13,
   "id": "c5e8ea76",
   "metadata": {},
   "outputs": [],
   "source": [
    "import datetime as dt"
   ]
  },
  {
   "cell_type": "code",
   "execution_count": 19,
   "id": "e71b2d34",
   "metadata": {},
   "outputs": [
    {
     "name": "stdout",
     "output_type": "stream",
     "text": [
      "['12578522', 'Ask HN: How do you pass on your work when you die?', '', '6', '3', 'PascLeRasc', '9/26/2016 1:17']\n"
     ]
    }
   ],
   "source": [
    "# só checando a estrutura de cada entrada\n",
    "print(ask_posts[1])"
   ]
  },
  {
   "cell_type": "markdown",
   "id": "0c7a2e75",
   "metadata": {},
   "source": [
    "Fazendo parsing de cada post e anexado à lista 'result_list' uma nova lista com os elementos 'created_at' e 'comments' de cada post"
   ]
  },
  {
   "cell_type": "code",
   "execution_count": 36,
   "id": "349ac2a6",
   "metadata": {},
   "outputs": [],
   "source": [
    "result_list = []\n",
    "\n",
    "for post in ask_posts:\n",
    "    created_at = post[6]\n",
    "    n_comments = int(post[4])\n",
    "    result_list.append([created_at, n_comments])"
   ]
  },
  {
   "cell_type": "code",
   "execution_count": 21,
   "id": "97f95f5a",
   "metadata": {},
   "outputs": [
    {
     "name": "stdout",
     "output_type": "stream",
     "text": [
      "[['9/26/2016 2:53', 7], ['9/26/2016 1:17', 3]]\n",
      "9139\n"
     ]
    }
   ],
   "source": [
    "print(result_list[:2])\n",
    "print(len(result_list))"
   ]
  },
  {
   "cell_type": "markdown",
   "id": "e671eeda",
   "metadata": {},
   "source": [
    "Separando a hora da data"
   ]
  },
  {
   "cell_type": "code",
   "execution_count": 37,
   "id": "207de4f2",
   "metadata": {},
   "outputs": [],
   "source": [
    "counts_by_hour = {}\n",
    "comments_by_hour = {}\n",
    "\n",
    "for post in result_list:\n",
    "    date_str = post[0]\n",
    "    comment = post[1]\n",
    "    time = dt.datetime.strptime(date_str, \"%m/%d/%Y %H:%M\").strftime(\"%H\")\n",
    "    if time not in counts_by_hour:\n",
    "        counts_by_hour[time] = 1\n",
    "        comments_by_hour[time] = comment\n",
    "    else:\n",
    "        counts_by_hour[time] += 1\n",
    "        comments_by_hour[time] += comment\n",
    "    "
   ]
  },
  {
   "cell_type": "code",
   "execution_count": 40,
   "id": "cdfad217",
   "metadata": {
    "scrolled": true
   },
   "outputs": [
    {
     "name": "stdout",
     "output_type": "stream",
     "text": [
      "{'02': 269, '01': 282, '22': 383, '21': 518, '19': 552, '17': 587, '15': 646, '14': 513, '13': 444, '11': 312, '10': 282, '09': 222, '07': 226, '03': 271, '23': 343, '20': 510, '16': 579, '08': 257, '00': 301, '18': 614, '12': 342, '04': 243, '06': 234, '05': 209}\n",
      "{'02': 2996, '01': 2089, '22': 3372, '21': 4500, '19': 3954, '17': 5547, '15': 18525, '14': 4972, '13': 7245, '11': 2797, '10': 3013, '09': 1477, '07': 1585, '03': 2154, '23': 2297, '20': 4462, '16': 4466, '08': 2362, '00': 2277, '18': 4877, '12': 4234, '04': 2360, '06': 1587, '05': 1838}\n"
     ]
    }
   ],
   "source": [
    "print(counts_by_hour)\n",
    "print(comments_by_hour)"
   ]
  },
  {
   "cell_type": "markdown",
   "id": "e213470e",
   "metadata": {},
   "source": [
    "## Calculando a média de comentários de posts 'Ask HN' por hora"
   ]
  },
  {
   "cell_type": "code",
   "execution_count": 41,
   "id": "9e5da284",
   "metadata": {},
   "outputs": [],
   "source": [
    "avg_by_hour = []\n",
    "\n",
    "for hour in comments_by_hour:\n",
    "    avg_by_hour.append([hour, comments_by_hour[hour]/counts_by_hour[hour]])"
   ]
  },
  {
   "cell_type": "code",
   "execution_count": 44,
   "id": "1b473dfb",
   "metadata": {},
   "outputs": [
    {
     "name": "stdout",
     "output_type": "stream",
     "text": [
      "[['02', 11.137546468401487], ['01', 7.407801418439717], ['22', 8.804177545691905], ['21', 8.687258687258687], ['19', 7.163043478260869], ['17', 9.449744463373083], ['15', 28.676470588235293], ['14', 9.692007797270955], ['13', 16.31756756756757], ['11', 8.96474358974359], ['10', 10.684397163120567], ['09', 6.653153153153153], ['07', 7.013274336283186], ['03', 7.948339483394834], ['23', 6.696793002915452], ['20', 8.749019607843136], ['16', 7.713298791018998], ['08', 9.190661478599221], ['00', 7.5647840531561465], ['18', 7.94299674267101], ['12', 12.380116959064328], ['04', 9.7119341563786], ['06', 6.782051282051282], ['05', 8.794258373205741]]\n"
     ]
    }
   ],
   "source": [
    "print(avg_by_hour)"
   ]
  },
  {
   "cell_type": "markdown",
   "id": "ef2e1d45",
   "metadata": {},
   "source": [
    "Ordenando a lista"
   ]
  },
  {
   "cell_type": "code",
   "execution_count": 47,
   "id": "fcec64bc",
   "metadata": {},
   "outputs": [
    {
     "name": "stdout",
     "output_type": "stream",
     "text": [
      "[[11.137546468401487, '02'], [7.407801418439717, '01'], [8.804177545691905, '22'], [8.687258687258687, '21'], [7.163043478260869, '19'], [9.449744463373083, '17'], [28.676470588235293, '15'], [9.692007797270955, '14'], [16.31756756756757, '13'], [8.96474358974359, '11'], [10.684397163120567, '10'], [6.653153153153153, '09'], [7.013274336283186, '07'], [7.948339483394834, '03'], [6.696793002915452, '23'], [8.749019607843136, '20'], [7.713298791018998, '16'], [9.190661478599221, '08'], [7.5647840531561465, '00'], [7.94299674267101, '18'], [12.380116959064328, '12'], [9.7119341563786, '04'], [6.782051282051282, '06'], [8.794258373205741, '05']]\n"
     ]
    }
   ],
   "source": [
    "swap_avg_by_hour = []\n",
    "\n",
    "for hour in avg_by_hour:\n",
    "    swap_avg_by_hour.append([hour[1], hour[0]])\n",
    "    \n",
    "print(swap_avg_by_hour)"
   ]
  },
  {
   "cell_type": "code",
   "execution_count": 49,
   "id": "7ee00753",
   "metadata": {},
   "outputs": [
    {
     "name": "stdout",
     "output_type": "stream",
     "text": [
      "[[28.676470588235293, '15'], [16.31756756756757, '13'], [12.380116959064328, '12'], [11.137546468401487, '02'], [10.684397163120567, '10'], [9.7119341563786, '04'], [9.692007797270955, '14'], [9.449744463373083, '17'], [9.190661478599221, '08'], [8.96474358974359, '11'], [8.804177545691905, '22'], [8.794258373205741, '05'], [8.749019607843136, '20'], [8.687258687258687, '21'], [7.948339483394834, '03'], [7.94299674267101, '18'], [7.713298791018998, '16'], [7.5647840531561465, '00'], [7.407801418439717, '01'], [7.163043478260869, '19'], [7.013274336283186, '07'], [6.782051282051282, '06'], [6.696793002915452, '23'], [6.653153153153153, '09']]\n"
     ]
    }
   ],
   "source": [
    "sorted_swap = sorted(swap_avg_by_hour, reverse=True)\n",
    "print(sorted_swap)"
   ]
  },
  {
   "cell_type": "code",
   "execution_count": 52,
   "id": "e2917e76",
   "metadata": {},
   "outputs": [
    {
     "name": "stdout",
     "output_type": "stream",
     "text": [
      "Os 5 melhores horários para publicações 'Ask HN'\n",
      "15:00: 28.68 comentários médios por post\n",
      "13:00: 16.32 comentários médios por post\n",
      "12:00: 12.38 comentários médios por post\n",
      "02:00: 11.14 comentários médios por post\n",
      "10:00: 10.68 comentários médios por post\n"
     ]
    }
   ],
   "source": [
    "print(\"Os 5 melhores horários para publicações 'Ask HN'\")\n",
    "for hour in sorted_swap[:5]:\n",
    "    time = dt.datetime.strptime(hour[1], \"%H\").strftime(\"%H:%M\")\n",
    "    print(\"{}: {:.2f} comentários médios por post\".format(time, hour[0]))"
   ]
  },
  {
   "cell_type": "markdown",
   "id": "38de3a3c",
   "metadata": {},
   "source": [
    "Considerando que o fuso utilizado no data set é Easter Time dos Estados Unidos, precisamos considerar uma hora a mais para corresponder ao horário de Brasília.\n",
    "\n",
    "Logo, o melhor horário para brasileiros publicarem posts de *Ask HN* é às **16h**, tendo em vista que as publicações feitas neste horário recebem, em média, **29 comentários**"
   ]
  },
  {
   "cell_type": "code",
   "execution_count": null,
   "id": "69db95d2",
   "metadata": {},
   "outputs": [],
   "source": []
  }
 ],
 "metadata": {
  "kernelspec": {
   "display_name": "Python 3 (ipykernel)",
   "language": "python",
   "name": "python3"
  },
  "language_info": {
   "codemirror_mode": {
    "name": "ipython",
    "version": 3
   },
   "file_extension": ".py",
   "mimetype": "text/x-python",
   "name": "python",
   "nbconvert_exporter": "python",
   "pygments_lexer": "ipython3",
   "version": "3.9.7"
  }
 },
 "nbformat": 4,
 "nbformat_minor": 5
}
